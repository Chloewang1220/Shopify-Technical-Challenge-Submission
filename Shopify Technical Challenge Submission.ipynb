{
 "cells": [
  {
   "cell_type": "markdown",
   "metadata": {},
   "source": [
    "## Q1 ##"
   ]
  },
  {
   "cell_type": "code",
   "execution_count": 1,
   "metadata": {},
   "outputs": [],
   "source": [
    "import pandas as pd\n",
    "import numpy as np\n",
    "df = pd.read_csv('/Users/chloewang/Downloads/2019 Winter Data Science Intern Challenge Data Set - Sheet1.csv')"
   ]
  },
  {
   "cell_type": "code",
   "execution_count": 2,
   "metadata": {},
   "outputs": [
    {
     "data": {
      "text/html": [
       "<div>\n",
       "<style scoped>\n",
       "    .dataframe tbody tr th:only-of-type {\n",
       "        vertical-align: middle;\n",
       "    }\n",
       "\n",
       "    .dataframe tbody tr th {\n",
       "        vertical-align: top;\n",
       "    }\n",
       "\n",
       "    .dataframe thead th {\n",
       "        text-align: right;\n",
       "    }\n",
       "</style>\n",
       "<table border=\"1\" class=\"dataframe\">\n",
       "  <thead>\n",
       "    <tr style=\"text-align: right;\">\n",
       "      <th></th>\n",
       "      <th>order_id</th>\n",
       "      <th>shop_id</th>\n",
       "      <th>user_id</th>\n",
       "      <th>order_amount</th>\n",
       "      <th>total_items</th>\n",
       "    </tr>\n",
       "  </thead>\n",
       "  <tbody>\n",
       "    <tr>\n",
       "      <th>count</th>\n",
       "      <td>5000.000000</td>\n",
       "      <td>5000.000000</td>\n",
       "      <td>5000.000000</td>\n",
       "      <td>5000.000000</td>\n",
       "      <td>5000.00000</td>\n",
       "    </tr>\n",
       "    <tr>\n",
       "      <th>mean</th>\n",
       "      <td>2500.500000</td>\n",
       "      <td>50.078800</td>\n",
       "      <td>849.092400</td>\n",
       "      <td>3145.128000</td>\n",
       "      <td>8.78720</td>\n",
       "    </tr>\n",
       "    <tr>\n",
       "      <th>std</th>\n",
       "      <td>1443.520003</td>\n",
       "      <td>29.006118</td>\n",
       "      <td>87.798982</td>\n",
       "      <td>41282.539349</td>\n",
       "      <td>116.32032</td>\n",
       "    </tr>\n",
       "    <tr>\n",
       "      <th>min</th>\n",
       "      <td>1.000000</td>\n",
       "      <td>1.000000</td>\n",
       "      <td>607.000000</td>\n",
       "      <td>90.000000</td>\n",
       "      <td>1.00000</td>\n",
       "    </tr>\n",
       "    <tr>\n",
       "      <th>25%</th>\n",
       "      <td>1250.750000</td>\n",
       "      <td>24.000000</td>\n",
       "      <td>775.000000</td>\n",
       "      <td>163.000000</td>\n",
       "      <td>1.00000</td>\n",
       "    </tr>\n",
       "    <tr>\n",
       "      <th>50%</th>\n",
       "      <td>2500.500000</td>\n",
       "      <td>50.000000</td>\n",
       "      <td>849.000000</td>\n",
       "      <td>284.000000</td>\n",
       "      <td>2.00000</td>\n",
       "    </tr>\n",
       "    <tr>\n",
       "      <th>75%</th>\n",
       "      <td>3750.250000</td>\n",
       "      <td>75.000000</td>\n",
       "      <td>925.000000</td>\n",
       "      <td>390.000000</td>\n",
       "      <td>3.00000</td>\n",
       "    </tr>\n",
       "    <tr>\n",
       "      <th>max</th>\n",
       "      <td>5000.000000</td>\n",
       "      <td>100.000000</td>\n",
       "      <td>999.000000</td>\n",
       "      <td>704000.000000</td>\n",
       "      <td>2000.00000</td>\n",
       "    </tr>\n",
       "  </tbody>\n",
       "</table>\n",
       "</div>"
      ],
      "text/plain": [
       "          order_id      shop_id      user_id   order_amount  total_items\n",
       "count  5000.000000  5000.000000  5000.000000    5000.000000   5000.00000\n",
       "mean   2500.500000    50.078800   849.092400    3145.128000      8.78720\n",
       "std    1443.520003    29.006118    87.798982   41282.539349    116.32032\n",
       "min       1.000000     1.000000   607.000000      90.000000      1.00000\n",
       "25%    1250.750000    24.000000   775.000000     163.000000      1.00000\n",
       "50%    2500.500000    50.000000   849.000000     284.000000      2.00000\n",
       "75%    3750.250000    75.000000   925.000000     390.000000      3.00000\n",
       "max    5000.000000   100.000000   999.000000  704000.000000   2000.00000"
      ]
     },
     "execution_count": 2,
     "metadata": {},
     "output_type": "execute_result"
    }
   ],
   "source": [
    "df.describe()"
   ]
  },
  {
   "cell_type": "code",
   "execution_count": 8,
   "metadata": {},
   "outputs": [
    {
     "data": {
      "text/plain": [
       "25725     19\n",
       "704000    17\n",
       "51450     16\n",
       "77175      9\n",
       "154350     1\n",
       "102900     1\n",
       "Name: order_amount, dtype: int64"
      ]
     },
     "execution_count": 8,
     "metadata": {},
     "output_type": "execute_result"
    }
   ],
   "source": [
    "df['order_amount'][df.order_amount > 2000].value_counts()"
   ]
  },
  {
   "cell_type": "code",
   "execution_count": 6,
   "metadata": {},
   "outputs": [
    {
     "data": {
      "text/plain": [
       "(5000,)"
      ]
     },
     "execution_count": 6,
     "metadata": {},
     "output_type": "execute_result"
    }
   ],
   "source": [
    "df['order_amount'].shape"
   ]
  },
  {
   "cell_type": "markdown",
   "metadata": {},
   "source": [
    "a: Think about what could be going wrong with our calculation. Think about a better way to evaluate this data.\n",
    "\n",
    "Answer: Through exploring the descriptive statistic of this dataset, I found that the number 3145 is exactly the average order value, therefore the calculation itself doesn't go wrong. The reason that this number is not reasonable is that the way used to evaluate this data -- using the mean value\" -- is inappropriate. Applying other functions, I found that there are 5000 rows in total, and there are 63 rows who has an order amount that is extremely larger than normal order amount. These outliers are so large that they strongly affect the mean  of the total order value. To avoid the effect of these outliers and better evaluate this data, median value should be utilized."
   ]
  },
  {
   "cell_type": "markdown",
   "metadata": {},
   "source": [
    "b: What metric would you report for this dataset?\n",
    "    \n",
    "Answer: Median order value."
   ]
  },
  {
   "cell_type": "markdown",
   "metadata": {},
   "source": [
    "c: What is its value?\n",
    "    \n",
    "Answer: According to the descriptive statistic of this dataset, the median order value should be $284, which is a reasonable number."
   ]
  },
  {
   "cell_type": "markdown",
   "metadata": {},
   "source": [
    "## Q2 ##"
   ]
  },
  {
   "cell_type": "markdown",
   "metadata": {},
   "source": [
    "a: How many orders were shipped by Speedy Express in total?\n",
    "\n",
    "Desired Output: just a number: the number of orders that were shipped by Speedy Express\n",
    "\n",
    "Steps:\n",
    "1. Inner join table Orders and table Shippers\n",
    "2. Use the \"where\" condition to only contain the orders whose shipper name is Speedy Express\n",
    "3. Use \"count(*)\" to count the entire amount that satisfy the previous steps\n",
    "\n",
    "Answer:\n",
    "There are 54 orders that were shipped by Speedy Express"
   ]
  },
  {
   "cell_type": "code",
   "execution_count": null,
   "metadata": {},
   "outputs": [],
   "source": [
    "SELECT COUNT(*) as OrdersShippedBySE\n",
    "FROM Orders o JOIN Shippers s ON o.ShipperID = s.ShipperID\n",
    "WHERE s.ShipperName = \"Speedy Express\"\n",
    "#OrdersShippedBySE: 54"
   ]
  },
  {
   "cell_type": "markdown",
   "metadata": {},
   "source": [
    "b: What is the last name of the employee with the most orders?\n",
    "\n",
    "Desired Output: The last name of an employee who made the most orders, and the number of orders made by him/her\n",
    "\n",
    "Steps:\n",
    "1. Create a new table whose columns are the last name of each employee and the number of orders made by each employee\n",
    "\n",
    "1.1 Inner join table Orders and table Employees\n",
    "\n",
    "1.2 Group all orders based on EmployeeID\n",
    "2. Make the number of orders made by each employee in a descending order, and take the first row as result\n",
    "\n",
    "Answer:\n",
    "The employee with last name \"Peacock\" has the most order"
   ]
  },
  {
   "cell_type": "code",
   "execution_count": null,
   "metadata": {},
   "outputs": [],
   "source": [
    "SELECT Employee_Order.LastName\n",
    "FROM(\n",
    "SELECT o.EmployeeID, e.LastName, COUNT(*) AS numOfOrder\n",
    "FROM Orders o JOIN Employees e ON o.EmployeeID = e.EmployeeID\n",
    "GROUP BY o.EmployeeID) AS Employee_Order\n",
    "ORDER BY Employee_Order.numOfOrder DESC\n",
    "LIMIT 1 \n",
    "#LastName: Peacock"
   ]
  },
  {
   "cell_type": "markdown",
   "metadata": {},
   "source": [
    "c: What product was ordered the most by customers in Germany?\n",
    "\n",
    "Desired Output: a product name\n",
    "\n",
    "Steps:\n",
    "\n",
    "1. Join four tables: OrderDetails, Orders, Products, and Customers where his/her country is Germany\n",
    "2. Group the orders based on ProductID, and for each unique ProductID, count how many orders are related\n",
    "3. Make the product count column in the new table in a descending order\n",
    "4. Take the first row as result\n",
    "\n",
    "Answer:\n",
    "For customers in Germany, Gorgonzola Telino is the product that they tend to order"
   ]
  },
  {
   "cell_type": "code",
   "execution_count": null,
   "metadata": {},
   "outputs": [],
   "source": [
    "SELECT Product_Count_Ger.ProductName\n",
    "FROM (\n",
    "SELECT od.ProductID, p.ProductName, COUNT(*) AS product_count\n",
    "FROM OrderDetails od \n",
    "JOIN Orders o ON od.OrderID = o.OrderID\n",
    "JOIN Products p ON od.ProductID = p.ProductID\n",
    "JOIN (\n",
    "SELECT Orders.OrderID, Customers.Country\n",
    "FROM Orders\n",
    "JOIN Customers ON Orders.CustomerID = Customers.CustomerID) AS Cus_Order ON od.OrderID = Cus_Order.OrderID\n",
    "WHERE Cus_Order.Country = \"Germany\"\n",
    "GROUP BY od.ProductID) AS Product_Count_Ger\n",
    "ORDER BY Product_Count_Ger.product_count DESC\n",
    "LIMIT 1\n",
    "#ProductName: Gorgonzola Telino"
   ]
  }
 ],
 "metadata": {
  "kernelspec": {
   "display_name": "Python 3",
   "language": "python",
   "name": "python3"
  },
  "language_info": {
   "codemirror_mode": {
    "name": "ipython",
    "version": 3
   },
   "file_extension": ".py",
   "mimetype": "text/x-python",
   "name": "python",
   "nbconvert_exporter": "python",
   "pygments_lexer": "ipython3",
   "version": "3.7.4"
  }
 },
 "nbformat": 4,
 "nbformat_minor": 2
}
